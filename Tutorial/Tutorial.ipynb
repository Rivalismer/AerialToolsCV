{
 "cells": [
  {
   "cell_type": "code",
   "execution_count": null,
   "id": "b5336a4a-869f-408e-b5fd-66037e4a23f8",
   "metadata": {},
   "outputs": [],
   "source": [
    "import torch\n",
    "BATCH_SIZE = 4 # increase / decrease according to GPU memeory\n",
    "RESIZE_TO = 1024 # resize the image for training and transforms\n",
    "NUM_EPOCHS = 100 # number of epochs to train for\n",
    "DEVICE = torch.device('cuda') if torch.cuda.is_available() else torch.device('cpu')\n",
    "# training images and XML files directory\n",
    "TRAIN_DIR = '../Data/train/'\n",
    "# validation images and XML files directory\n",
    "VALID_DIR = '../Data//test'\n",
    "# classes: 0 index is reserved for background\n",
    "NUM_CLASSES = 2\n",
    "# whether to visualize images after crearing the data loaders\n",
    "VISUALIZE_TRANSFORMED_IMAGES = False\n",
    "# location to save model and plots\n",
    "OUT_DIR = '../Outputs'\n",
    "SAVE_PLOTS_EPOCH = 2 # save loss plots after these many epochs\n",
    "SAVE_MODEL_EPOCH = 2 # save model after these many epochs"
   ]
  }
 ],
 "metadata": {
  "kernelspec": {
   "display_name": "Python 3 (ipykernel)",
   "language": "python",
   "name": "python3"
  },
  "language_info": {
   "codemirror_mode": {
    "name": "ipython",
    "version": 3
   },
   "file_extension": ".py",
   "mimetype": "text/x-python",
   "name": "python",
   "nbconvert_exporter": "python",
   "pygments_lexer": "ipython3",
   "version": "3.10.5"
  }
 },
 "nbformat": 4,
 "nbformat_minor": 5
}
