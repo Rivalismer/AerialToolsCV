{
 "cells": [
  {
   "cell_type": "code",
   "execution_count": 1,
   "metadata": {},
   "outputs": [],
   "source": [
    "import cv2\n",
    "import matplotlib.pyplot as plt"
   ]
  },
  {
   "cell_type": "code",
   "execution_count": 4,
   "metadata": {},
   "outputs": [
    {
     "name": "stdout",
     "output_type": "stream",
     "text": [
      "77 74\n"
     ]
    }
   ],
   "source": [
    "path = \"../Data/PV-Modules-Faults.v5i.coco-segmentation/train/BR_3_jpg.rf.4cbd73e2795242133e791fb2d0ecccfa.jpg\"\n",
    "img = cv2.imread(path)[::-1]\n",
    "\n",
    "h,w,_ = img.shape\n",
    "print(h, w)"
   ]
  },
  {
   "cell_type": "code",
   "execution_count": null,
   "metadata": {},
   "outputs": [],
   "source": []
  }
 ],
 "metadata": {
  "kernelspec": {
   "display_name": "Python 3",
   "language": "python",
   "name": "python3"
  },
  "language_info": {
   "codemirror_mode": {
    "name": "ipython",
    "version": 3
   },
   "file_extension": ".py",
   "mimetype": "text/x-python",
   "name": "python",
   "nbconvert_exporter": "python",
   "pygments_lexer": "ipython3",
   "version": "3.10.5"
  },
  "orig_nbformat": 4,
  "vscode": {
   "interpreter": {
    "hash": "1b8f917d62fd31e6967f17dd1bde2862c49dbf86620e52c2a8ea7c8ce5b1f3d7"
   }
  }
 },
 "nbformat": 4,
 "nbformat_minor": 2
}
